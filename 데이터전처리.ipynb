{
  "nbformat": 4,
  "nbformat_minor": 0,
  "metadata": {
    "colab": {
      "provenance": [],
      "authorship_tag": "ABX9TyOezC5x7up6RMlYOx2XBsgJ",
      "include_colab_link": true
    },
    "kernelspec": {
      "name": "python3",
      "display_name": "Python 3"
    },
    "language_info": {
      "name": "python"
    }
  },
  "cells": [
    {
      "cell_type": "markdown",
      "metadata": {
        "id": "view-in-github",
        "colab_type": "text"
      },
      "source": [
        "<a href=\"https://colab.research.google.com/github/wonjun0804/Crime_Predictor/blob/Data-preprocessing/%EB%8D%B0%EC%9D%B4%ED%84%B0%EC%A0%84%EC%B2%98%EB%A6%AC.ipynb\" target=\"_parent\"><img src=\"https://colab.research.google.com/assets/colab-badge.svg\" alt=\"Open In Colab\"/></a>"
      ]
    },
    {
      "cell_type": "markdown",
      "source": [
        "데이터 전처리 과정"
      ],
      "metadata": {
        "id": "QIEj73cwy6Ek"
      }
    },
    {
      "cell_type": "code",
      "execution_count": 14,
      "metadata": {
        "colab": {
          "base_uri": "https://localhost:8080/"
        },
        "id": "miPVpfQYROGH",
        "outputId": "8add1086-c814-48ed-c854-8e3b55117aef"
      },
      "outputs": [
        {
          "output_type": "stream",
          "name": "stdout",
          "text": [
            "     자치구  편의점수\n",
            "0    강남구   602\n",
            "1    송파구   432\n",
            "2    강서구   361\n",
            "3    서초구   358\n",
            "4   영등포구   345\n",
            "5    마포구   340\n",
            "6    관악구   310\n",
            "7    강동구   298\n",
            "8   동대문구   288\n",
            "9    광진구   275\n",
            "10   은평구   274\n",
            "11   구로구   262\n",
            "12   노원구   245\n",
            "13    중구   237\n",
            "14   중랑구   234\n",
            "15   성북구   228\n",
            "16   금천구   227\n",
            "17   동작구   226\n",
            "18  서대문구   214\n",
            "19   양천구   207\n",
            "20   강북구   206\n",
            "21   성동구   205\n",
            "22   도봉구   183\n",
            "23   종로구   181\n",
            "24   용산구   165\n"
          ]
        }
      ],
      "source": [
        "#서울시 휴게음식점 인허가 정보.csv 파일에서 \"영업상태명\"이 \"폐업\"이나 \"취소/말소/만료/정지/중지\"인 데이터는 제거하고, 사업장명에 \"cu\", \"씨유\", \"gs\", \"지에스\", \"세븐일레븐\", \"이마트24\", \"미니스톱\"이 포함된 편의점만 남긴다음 서울 자치구 25개로 나눠서 업소 수를 합산\n",
        "\n",
        "import pandas as pd\n",
        "\n",
        "# 1. CSV 파일 불러오기\n",
        "df = pd.read_csv(\"서울시 휴게음식점 인허가 정보.csv\", encoding=\"utf-8\", low_memory=False)\n",
        "df.head()\n",
        "\n",
        "\n",
        "# 2. 제거할 영업상태명 정의\n",
        "drop_statuses = ['폐업', '취소/말소/만료/정지/중지']\n",
        "\n",
        "# 3. 비영업 데이터 제거\n",
        "df = df[~df['영업상태명'].isin(drop_statuses)].copy()\n",
        "\n",
        "# 4. 편의점 브랜드 키워드 정의 (모두 소문자로 처리)\n",
        "keywords = ['cu', '씨유', 'gs', '지에스', '세븐일레븐', '이마트24', '미니스톱']\n",
        "\n",
        "# 5. 사업장명을 소문자로 변환\n",
        "df['사업장명_소문자'] = df['사업장명'].astype(str).str.lower()\n",
        "\n",
        "# 6. 키워드 중 하나라도 포함된 경우만 남기기\n",
        "df = df[df['사업장명_소문자'].apply(lambda x: any(k in x for k in keywords))].copy()\n",
        "\n",
        "# 7. 자치구 추출 함수 정의\n",
        "def extract_gu(address):\n",
        "    try:\n",
        "        if pd.notnull(address) and \"구\" in address:\n",
        "            return address.split()[1]  # 예: 서울특별시 강남구 → 강남구\n",
        "        else:\n",
        "            return None\n",
        "    except:\n",
        "        return None\n",
        "\n",
        "# 8. 도로명주소에서 자치구 추출\n",
        "df['자치구'] = df['도로명주소'].apply(extract_gu)\n",
        "\n",
        "# 9. 도로명주소에서 못 뽑은 경우 지번주소에서 추출\n",
        "df['자치구'] = df['자치구'].fillna(df['지번주소'].apply(extract_gu))\n",
        "\n",
        "# 10. 자치구별 편의점 수 집계\n",
        "gu_counts = df['자치구'].value_counts().reset_index()\n",
        "gu_counts.columns = ['자치구', '편의점수']\n",
        "\n",
        "# 11. 결과 확인 (선택)\n",
        "print(gu_counts)\n",
        "\n",
        "# 12. CSV로 저장 (선택)\n",
        "gu_counts.to_csv(\"서울시_자치구별_편의점시설.csv\", index=False, encoding=\"utf-8-sig\")"
      ]
    },
    {
      "cell_type": "code",
      "source": [
        "#서울시 숙박업 인허가 정보.csv 파일에서 \"영업상태명\"이 '폐업'인 데이터만 삭제\n",
        "\n",
        "# 1. CSV 파일 불러오기 (한글 인코딩 고려: cp949 사용)\n",
        "df = pd.read_csv(\"서울시 숙박업 인허가 정보.csv\", encoding=\"cp949\")\n",
        "\n",
        "# 2. 폐업된 숙박업소 제거\n",
        "# '영업상태명' 컬럼에서 값이 '폐업'이 아닌 행만 필터링\n",
        "df_filtered = df[df['영업상태명'] != '폐업'].copy()\n",
        "\n",
        "# 3. 자치구 추출 함수 정의\n",
        "# 도로명주소 또는 지번주소에서 \"강남구\", \"서초구\" 등의 자치구를 추출\n",
        "def extract_gu(address):\n",
        "    try:\n",
        "        if pd.notnull(address) and \"구\" in address:\n",
        "            return address.split()[1]  # '서울특별시 강남구 도곡로' → '강남구'\n",
        "        else:\n",
        "            return None\n",
        "    except:\n",
        "        return None\n",
        "\n",
        "# 4. 도로명주소에서 자치구 추출\n",
        "df_filtered['자치구'] = df_filtered['도로명주소'].apply(extract_gu)\n",
        "\n",
        "# 5. 도로명주소에서 못 뽑은 경우 → 지번주소에서 자치구 추출\n",
        "df_filtered['자치구'] = df_filtered['자치구'].fillna(df_filtered['지번주소'].apply(extract_gu))\n",
        "\n",
        "# 6. 자치구별 숙박업소 개수 세기\n",
        "# 자치구 기준으로 value_counts() 또는 groupby().size() 사용\n",
        "gu_counts = df_filtered['자치구'].value_counts().reset_index()\n",
        "gu_counts.columns = ['자치구', '숙박업소수']\n",
        "\n",
        "# 7. 결과 확인 (선택)\n",
        "print(gu_counts)\n",
        "\n",
        "# 8. 결과 저장 (선택)\n",
        "gu_counts.to_csv(\"서울시_자치구별_숙박업수.csv\", index=False, encoding=\"utf-8-sig\")"
      ],
      "metadata": {
        "colab": {
          "base_uri": "https://localhost:8080/"
        },
        "id": "HJYnL3PyzCiM",
        "outputId": "a4897246-180e-4b8c-f86a-87313d115488"
      },
      "execution_count": 15,
      "outputs": [
        {
          "output_type": "stream",
          "name": "stdout",
          "text": [
            "     자치구  숙박업소수\n",
            "0     중구    376\n",
            "1    종로구    255\n",
            "2   영등포구    222\n",
            "3    강남구    131\n",
            "4   동대문구    131\n",
            "5    강북구    124\n",
            "6    구로구    122\n",
            "7    관악구    104\n",
            "8    강서구    104\n",
            "9    중랑구     89\n",
            "10  서대문구     89\n",
            "11   용산구     82\n",
            "12   송파구     76\n",
            "13   마포구     72\n",
            "14   강동구     69\n",
            "15   금천구     68\n",
            "16   광진구     66\n",
            "17   성동구     62\n",
            "18   은평구     62\n",
            "19   성북구     59\n",
            "20   서초구     38\n",
            "21   동작구     37\n",
            "22   노원구     28\n",
            "23   도봉구     22\n",
            "24   양천구     13\n"
          ]
        }
      ]
    },
    {
      "cell_type": "code",
      "source": [
        "#서울시 청소년게임제공업 인허가 정보.csv 파일에서 \"영업상태명\"이 \"폐업\"이나 \"취소/말소/만료/정지/중지\"인 데이터는 제거하고, 서울 자치구 25개로 나눠서 업소 수를 합산\n",
        "import pandas as pd\n",
        "\n",
        "# 1. CSV 파일 불러오기\n",
        "df = pd.read_csv(\"서울시 청소년게임제공업 인허가 정보.csv\", encoding=\"cp949\")\n",
        "\n",
        "# 2. 제거할 영업상태명 목록 정의\n",
        "drop_statuses = ['폐업', '취소/말소/만료/정지/중지']\n",
        "\n",
        "# 3. 비영업 상태 제거 → 영업 중인 업소만 남기기\n",
        "df_filtered = df[~df['영업상태명'].isin(drop_statuses)].copy()\n",
        "\n",
        "# 4. 자치구 추출 함수 정의 (도로명주소 또는 지번주소에서 '강남구' 등 뽑기)\n",
        "def extract_gu(address):\n",
        "    try:\n",
        "        if pd.notnull(address) and \"구\" in address:\n",
        "            return address.split()[1]\n",
        "        else:\n",
        "            return None\n",
        "    except:\n",
        "        return None\n",
        "\n",
        "# 5. 도로명주소에서 자치구 추출\n",
        "df_filtered['자치구'] = df_filtered['도로명주소'].apply(extract_gu)\n",
        "\n",
        "# 6. 도로명주소에서 자치구 추출 실패한 경우 → 지번주소에서 추출\n",
        "df_filtered['자치구'] = df_filtered['자치구'].fillna(df_filtered['지번주소'].apply(extract_gu))\n",
        "\n",
        "# 7. 자치구별 업소 수 합산\n",
        "gu_counts = df_filtered['자치구'].value_counts().reset_index()\n",
        "gu_counts.columns = ['자치구', '청소년게임제공업소수']\n",
        "\n",
        "# 8. 결과 확인 (선택)\n",
        "print(gu_counts)\n",
        "\n",
        "# 9. 결과 CSV 파일로 저장 (선택)\n",
        "gu_counts.to_csv(\"서울시_자치구별_청소년게임시설.csv\", index=False, encoding=\"utf-8-sig\")"
      ],
      "metadata": {
        "colab": {
          "base_uri": "https://localhost:8080/"
        },
        "id": "DA4UTZIFzBwa",
        "outputId": "09b78348-15b2-4ace-bb76-aab9de75a1a3"
      },
      "execution_count": 16,
      "outputs": [
        {
          "output_type": "stream",
          "name": "stdout",
          "text": [
            "     자치구  청소년게임제공업소수\n",
            "0    강서구          79\n",
            "1    강북구          55\n",
            "2    중랑구          46\n",
            "3    동작구          46\n",
            "4    송파구          43\n",
            "5    노원구          43\n",
            "6    강동구          41\n",
            "7    관악구          36\n",
            "8    구로구          35\n",
            "9    금천구          29\n",
            "10   은평구          27\n",
            "11  영등포구          27\n",
            "12   마포구          27\n",
            "13   양천구          27\n",
            "14   성북구          25\n",
            "15   광진구          24\n",
            "16   도봉구          19\n",
            "17   강남구          17\n",
            "18  동대문구          16\n",
            "19   종로구          12\n",
            "20   서초구          11\n",
            "21   용산구           9\n",
            "22  서대문구           9\n",
            "23   성동구           6\n",
            "24    중구           6\n"
          ]
        }
      ]
    },
    {
      "cell_type": "code",
      "source": [
        "#서울시 일반게임제공업 인허가 정보.csv\" 파일에서 폐업, 취소/말소/만료/정지/중지 상태를 제외하고,자치구 25개로 나눠서 업소 수를 합산\n",
        "import pandas as pd\n",
        "\n",
        "# 1. 데이터 불러오기 (한글 인코딩 고려)\n",
        "df = pd.read_csv(\"서울시 일반게임제공업 인허가 정보.csv\", encoding=\"cp949\")\n",
        "\n",
        "# 2. 폐업 및 취소/말소 등 영업 중이 아닌 상태 제거\n",
        "drop_statuses = ['폐업', '취소/말소/만료/정지/중지']\n",
        "df_filtered = df[~df['영업상태명'].isin(drop_statuses)].copy()\n",
        "\n",
        "# 3. 자치구 추출 함수 정의 (도로명주소 또는 지번주소에서 \"강남구\" 등 추출)\n",
        "def extract_gu(address):\n",
        "    try:\n",
        "        if pd.notnull(address) and \"구\" in address:\n",
        "            return address.split()[1]  # 예: \"서울특별시 강남구 테헤란로\" → \"강남구\"\n",
        "        else:\n",
        "            return None\n",
        "    except:\n",
        "        return None\n",
        "\n",
        "# 4. 도로명주소에서 자치구 추출\n",
        "df_filtered['자치구'] = df_filtered['도로명주소'].apply(extract_gu)\n",
        "\n",
        "# 5. 도로명주소에 자치구 없는 경우 → 지번주소에서 추출\n",
        "df_filtered['자치구'] = df_filtered['자치구'].fillna(df_filtered['지번주소'].apply(extract_gu))\n",
        "\n",
        "# 6. 자치구별 일반게임업소 수 합산\n",
        "gu_counts = df_filtered['자치구'].value_counts().reset_index()\n",
        "gu_counts.columns = ['자치구', '일반게임제공업소수']\n",
        "\n",
        "# 7. 결과 확인\n",
        "print(gu_counts)\n",
        "\n",
        "# 8. 결과 저장 (선택)\n",
        "gu_counts.to_csv(\"서울시_자치구별_일반게임시설.csv\", index=False, encoding='utf-8-sig')"
      ],
      "metadata": {
        "colab": {
          "base_uri": "https://localhost:8080/"
        },
        "id": "Xup7QFse0pFD",
        "outputId": "0c66c8e9-a43b-4a57-8e51-8cdcc966e5f8"
      },
      "execution_count": 19,
      "outputs": [
        {
          "output_type": "stream",
          "name": "stdout",
          "text": [
            "     자치구  일반게임제공업소수\n",
            "0    관악구         61\n",
            "1    구로구         45\n",
            "2    강북구         27\n",
            "3    종로구         19\n",
            "4    도봉구         18\n",
            "5    은평구         17\n",
            "6   동대문구         16\n",
            "7    성동구         15\n",
            "8    강서구         15\n",
            "9    금천구         14\n",
            "10  영등포구         14\n",
            "11   성북구         11\n",
            "12   중랑구         10\n",
            "13   강동구         10\n",
            "14   송파구          9\n",
            "15   서초구          7\n",
            "16   노원구          7\n",
            "17   광진구          6\n",
            "18  서대문구          6\n",
            "19    중구          5\n",
            "20   동작구          5\n",
            "21   양천구          4\n",
            "22   강남구          2\n",
            "23   마포구          1\n"
          ]
        }
      ]
    },
    {
      "cell_type": "code",
      "source": [
        "#서울시 당구장업 인허가 정보.csv 파일에서 \"영업상태명\"이 \"폐업\"이나 \"취소/말소/만료/정지/중지\"인 데이터는 제거하고, 서울 자치구 25개로 나눠서 업소 수를 합산\n",
        "\n",
        "import pandas as pd\n",
        "\n",
        "# 1. CSV 파일 불러오기\n",
        "df = pd.read_csv(\"서울시 당구장업 인허가 정보.csv\", encoding=\"cp949\")\n",
        "\n",
        "# 2. 제외할 영업상태명 목록 정의\n",
        "drop_statuses = ['폐업', '취소/말소/만료/정지/중지']\n",
        "\n",
        "# 3. '폐업', '취소/말소/만료/정지/중지' 상태인 업소 제거 → 영업중인 업소만 남기기\n",
        "df_filtered = df[~df['영업상태명'].isin(drop_statuses)].copy()\n",
        "\n",
        "# 4. 자치구 추출 함수 정의\n",
        "# 주소 문자열에서 \"강남구\", \"마포구\" 등 자치구 이름만 추출\n",
        "def extract_gu(address):\n",
        "    try:\n",
        "        if pd.notnull(address) and \"구\" in address:\n",
        "            return address.split()[1]  # 예: '서울특별시 강남구 테헤란로 1길' → '강남구'\n",
        "        else:\n",
        "            return None\n",
        "    except:\n",
        "        return None\n",
        "\n",
        "# 5. 도로명주소에서 자치구 추출\n",
        "df_filtered['자치구'] = df_filtered['도로명주소'].apply(extract_gu)\n",
        "\n",
        "# 6. 도로명주소에서 자치구가 추출되지 않은 경우 → 지번주소에서 자치구 추출\n",
        "df_filtered['자치구'] = df_filtered['자치구'].fillna(df_filtered['지번주소'].apply(extract_gu))\n",
        "\n",
        "# 7. 자치구별 업소 수 합산\n",
        "gu_counts = df_filtered['자치구'].value_counts().reset_index()\n",
        "gu_counts.columns = ['자치구', '당구장업소수']\n",
        "\n",
        "# 8. 결과 확인 (선택)\n",
        "print(gu_counts)\n",
        "\n",
        "# 9. 결과 저장 (선택)\n",
        "gu_counts.to_csv(\"서울시_자치구별_당구장시설.csv\", index=False, encoding=\"utf-8-sig\")"
      ],
      "metadata": {
        "colab": {
          "base_uri": "https://localhost:8080/"
        },
        "id": "jonAx8Ry094T",
        "outputId": "25fedd38-de5d-4e07-e311-fdb27e9ebe94"
      },
      "execution_count": 21,
      "outputs": [
        {
          "output_type": "stream",
          "name": "stdout",
          "text": [
            "     자치구  당구장업소수\n",
            "0    서초구     196\n",
            "1     중구     177\n",
            "2    강남구     156\n",
            "3    광진구     155\n",
            "4    송파구     130\n",
            "5    도봉구     120\n",
            "6    강서구     118\n",
            "7    성북구     117\n",
            "8   영등포구     110\n",
            "9    노원구     107\n",
            "10   중랑구     107\n",
            "11   강동구     102\n",
            "12   강북구      98\n",
            "13   은평구      97\n",
            "14   금천구      92\n",
            "15   마포구      89\n",
            "16   양천구      87\n",
            "17   구로구      86\n",
            "18  동대문구      85\n",
            "19   종로구      82\n",
            "20   관악구      81\n",
            "21   동작구      72\n",
            "22   성동구      71\n",
            "23  서대문구      61\n",
            "24   용산구      34\n"
          ]
        }
      ]
    },
    {
      "cell_type": "code",
      "source": [],
      "metadata": {
        "id": "N9ZxBo2m1MNp"
      },
      "execution_count": null,
      "outputs": []
    }
  ]
}